{
 "cells": [
  {
   "cell_type": "code",
   "execution_count": null,
   "id": "e2890038",
   "metadata": {},
   "outputs": [],
   "source": [
    "# OpenCV is a real-time computer vision and machine learning software library, containing more \n",
    "# than 2500 CV and ML algorithms.\n",
    "\n",
    "# These algorithms can be used to detect and recognize faces, identify objects, classify human actions\n",
    "# in videos, track camera movements, track moving objects, extract 3D models of objects, produce 3D \n",
    "# point clouds from stereo cameras, etc."
   ]
  },
  {
   "cell_type": "code",
   "execution_count": null,
   "id": "e307d52a",
   "metadata": {},
   "outputs": [],
   "source": [
    "# OpenCV in Python uses Numpy. Numpy is a highly optimized library for numerical calculations and \n",
    "# provides powerful functionalities including arrays. All the OpenCV array structures are converted \n",
    "# to and from Numpy arrays.\n",
    "\n",
    "# Let’s install OpenCV and proceed ahead with our code: "
   ]
  },
  {
   "cell_type": "code",
   "execution_count": 1,
   "id": "f00588a4",
   "metadata": {},
   "outputs": [
    {
     "name": "stdout",
     "output_type": "stream",
     "text": [
      "Requirement already satisfied: opencv-python in c:\\users\\user\\appdata\\roaming\\python\\python39\\site-packages (4.5.5.64)\n",
      "Requirement already satisfied: numpy>=1.14.5 in c:\\users\\user\\anaconda3.1\\lib\\site-packages (from opencv-python) (1.20.3)\n",
      "Note: you may need to restart the kernel to use updated packages.\n"
     ]
    }
   ],
   "source": [
    "pip install opencv-python"
   ]
  },
  {
   "cell_type": "code",
   "execution_count": 2,
   "id": "9974a06e",
   "metadata": {},
   "outputs": [],
   "source": [
    "# Let’s import OpenCV."
   ]
  },
  {
   "cell_type": "code",
   "execution_count": 3,
   "id": "746d88c9",
   "metadata": {},
   "outputs": [],
   "source": [
    "import cv2\n",
    "import numpy as np"
   ]
  },
  {
   "cell_type": "code",
   "execution_count": 4,
   "id": "d764d3f2",
   "metadata": {},
   "outputs": [],
   "source": [
    "# The library is named OpenCV but actually, it has to import the cv2 module.\n",
    "\n",
    "# As we discussed earlier, OpenCV uses Numpy for its effectiveness. Now what that actually means is, Numpy has strong array \n",
    "# support. Numpy arrays have an interesting and wide range of methods.\n",
    "\n",
    "#And why we are discussing this? Because Every image used with OpenCV is nothing but a 3-dimensional Numpy Array!\n",
    "\n",
    "# This 3-dimensional Numpy array contains BGR values ranging from 0-255, where B stands for Blue, G for Green, R stands for Red. \n",
    "# This value shows the BGR pixel value in an image.\n",
    "\n",
    "# Let’s import our image, i.e. make our program read the sample image."
   ]
  },
  {
   "cell_type": "code",
   "execution_count": null,
   "id": "4e5f627f",
   "metadata": {},
   "outputs": [],
   "source": []
  },
  {
   "cell_type": "code",
   "execution_count": 5,
   "id": "706114dc",
   "metadata": {},
   "outputs": [],
   "source": [
    "img = cv2.imread(\"dog.PNG\", -1)"
   ]
  },
  {
   "cell_type": "code",
   "execution_count": 6,
   "id": "ece48d57",
   "metadata": {},
   "outputs": [],
   "source": [
    "# imread() takes 2 parameters: path for the image and way in which image has to be read -> its default value is cv2.IMREAD_COLOR \n",
    "# i.e. 1 and the other two options available are cv2.IMREAD_GRAYSCALE which reads the image in gray mode n \n",
    "# takes 0 as value and cv2.IMREAD_UNCHANGED reads as it is and takes the value as -1.\n",
    "\n",
    "\n",
    "# Now, to display the output we have to fire command."
   ]
  },
  {
   "cell_type": "code",
   "execution_count": 7,
   "id": "8b158ad5",
   "metadata": {},
   "outputs": [],
   "source": [
    "cv2.imshow('Image', img)\n",
    "cv2.waitKey(0)      \n",
    "cv2.destroyAllWindows()"
   ]
  },
  {
   "cell_type": "code",
   "execution_count": 8,
   "id": "c014ebac",
   "metadata": {},
   "outputs": [],
   "source": [
    "# imshow() is used to show the read image and takes two parameters: 1. window-name and 2. image to be returned\n",
    "\n",
    "# cv2.waitKey() specifies the total time duration of the display. If passed 0, it will showcase the output till any key is hit.\n",
    "\n",
    "# It takes parameters as time in milliseconds. The function is very important as it avoids the Python kernel from crashing.\n",
    "\n",
    "# cv2.destroyAllWindows() closes all the open windows."
   ]
  },
  {
   "cell_type": "code",
   "execution_count": 9,
   "id": "53791484",
   "metadata": {},
   "outputs": [],
   "source": [
    "# Now, let’s display in grayscale by changing the parametric value to 0 in imread()\n",
    "\n",
    "img = cv2.imread(\"dog.PNG\", 0)\n",
    "cv2.imshow('Image', img)\n",
    "cv2.waitKey(0)       \n",
    "cv2.destroyAllWindows()\n",
    "\n",
    "# By pressing any key on the keyboard, the window will automatically close."
   ]
  },
  {
   "cell_type": "code",
   "execution_count": 10,
   "id": "ff29338c",
   "metadata": {},
   "outputs": [],
   "source": [
    "# We can resize it.\n",
    "\n",
    "img = cv2.resize(img, (300,300))\n",
    "\n",
    "# Here, cv2.resize() provides the ability to convert the image to the desired shape. Now, instead of providing the width and \n",
    "# height of the image you can actually provide fx and fy to denote how many times you have to scale the original image."
   ]
  },
  {
   "cell_type": "code",
   "execution_count": 11,
   "id": "e9d86d44",
   "metadata": {},
   "outputs": [],
   "source": [
    "img = cv2.resize(img, (0,0), fx=0.3, fy=0.3)\n",
    "\n",
    "#fx and fy denotes x and y parameters for scalability."
   ]
  },
  {
   "cell_type": "code",
   "execution_count": 12,
   "id": "627091a3",
   "metadata": {},
   "outputs": [
    {
     "name": "stdout",
     "output_type": "stream",
     "text": [
      "[[  0   0   0 ...   0   0   0]\n",
      " [  0   0   0 ...   0   0   0]\n",
      " [  0   0   0 ...   0   1  11]\n",
      " ...\n",
      " [ 78  68  49 ... 109  90 100]\n",
      " [ 65  79  72 ... 112  73  80]\n",
      " [ 61  64  66 ...  92  93  91]]\n",
      "(90, 90)\n"
     ]
    }
   ],
   "source": [
    "# These images are NumPy arrays. So let’s print the image and let’s see the output:\n",
    "\n",
    "print(img)\n",
    "print(img.shape) #returns shape of numpy array"
   ]
  },
  {
   "cell_type": "code",
   "execution_count": 13,
   "id": "a35cb225",
   "metadata": {},
   "outputs": [],
   "source": [
    "# From the output, it is very clear that the array is a 2d array with 27×27 pixels. Why 2d not 3d? \n",
    "\n",
    "# Because the image has been read in grayscale, let’s make the compiler read the image unchanged and check for the shape."
   ]
  },
  {
   "cell_type": "code",
   "execution_count": 14,
   "id": "1d4279d5",
   "metadata": {},
   "outputs": [
    {
     "name": "stdout",
     "output_type": "stream",
     "text": [
      "[[[  0   2   2 255]\n",
      "  [  0   2   0 255]\n",
      "  [  0   2   0 255]\n",
      "  ...\n",
      "  [  0   0   0 255]\n",
      "  [  0   0   0 255]\n",
      "  [  0   0   0 255]]\n",
      "\n",
      " [[  0   2   2 255]\n",
      "  [  1   3   1 255]\n",
      "  [  0   3   0 255]\n",
      "  ...\n",
      "  [  0   0   0 255]\n",
      "  [  0   0   0 255]\n",
      "  [  0   0   0 255]]\n",
      "\n",
      " [[  0   2   2 255]\n",
      "  [  0   3   1 255]\n",
      "  [  1   3   1 255]\n",
      "  ...\n",
      "  [  0   0   0 255]\n",
      "  [  0   0   0 255]\n",
      "  [  0   0   0 255]]\n",
      "\n",
      " ...\n",
      "\n",
      " [[  3  85  37 255]\n",
      "  [  0  78  37 255]\n",
      "  [ 16 111  66 255]\n",
      "  ...\n",
      "  [ 15 130  85 255]\n",
      "  [  1  83  40 255]\n",
      "  [  2 104  61 255]]\n",
      "\n",
      " [[  3  94  49 255]\n",
      "  [  0  85  41 255]\n",
      "  [  8 114  62 255]\n",
      "  ...\n",
      "  [ 16 133  87 255]\n",
      "  [ 17 107  61 255]\n",
      "  [  8 100  64 255]]\n",
      "\n",
      " [[  5  44  24 255]\n",
      "  [  2  48  24 255]\n",
      "  [  2  47  25 255]\n",
      "  ...\n",
      "  [ 25 127  84 255]\n",
      "  [  0 107  60 255]\n",
      "  [  7 109  75 255]]]\n",
      "(118, 118, 4)\n"
     ]
    }
   ],
   "source": [
    "img = cv2.imread('dog.PNG', -1)\n",
    "img = cv2.resize(img, (0,0), fx=0.3, fy=0.3)\n",
    "print(img)\n",
    "print(img.shape)"
   ]
  },
  {
   "cell_type": "code",
   "execution_count": 15,
   "id": "25f460c0",
   "metadata": {},
   "outputs": [],
   "source": [
    "# Now you can see 3d array here with BGR values of each pixel."
   ]
  },
  {
   "cell_type": "markdown",
   "id": "42decf5b",
   "metadata": {},
   "source": [
    "# END"
   ]
  }
 ],
 "metadata": {
  "kernelspec": {
   "display_name": "Python 3 (ipykernel)",
   "language": "python",
   "name": "python3"
  },
  "language_info": {
   "codemirror_mode": {
    "name": "ipython",
    "version": 3
   },
   "file_extension": ".py",
   "mimetype": "text/x-python",
   "name": "python",
   "nbconvert_exporter": "python",
   "pygments_lexer": "ipython3",
   "version": "3.9.7"
  }
 },
 "nbformat": 4,
 "nbformat_minor": 5
}
